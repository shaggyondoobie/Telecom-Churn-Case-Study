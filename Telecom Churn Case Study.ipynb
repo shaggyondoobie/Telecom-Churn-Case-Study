{
 "cells": [
  {
   "cell_type": "markdown",
   "id": "826bf5f9",
   "metadata": {},
   "source": [
    "# Business Problem\n",
    " \n",
    "In the telecom industry, customers are able to choose from multiple service providers and actively switch from one operator to another. In this highly competitive market, the telecommunications industry experiences an average of 15-25% annual churn rate. Given the fact that it costs 5-10 times more to acquire a new customer than to retain an existing one, customer retention has now become even more important than customer acquisition.\n",
    "\n",
    "For many incumbent operators, retaining high profitable customers is the number one business goal.\n",
    "\n",
    "To reduce customer churn, telecom companies need to predict which customers are at high risk of churn.\n",
    "\n",
    "In this project, you will analyse customer-level data of a leading telecom firm, build predictive models to identify customers at high risk of churn and identify the main indicators of churn."
   ]
  },
  {
   "cell_type": "code",
   "execution_count": 103,
   "id": "62ab58c5",
   "metadata": {},
   "outputs": [],
   "source": [
    "#importing libraries\n",
    "import numpy as np \n",
    "import pandas as pd \n",
    "import matplotlib.pyplot as plt\n",
    "import seaborn as sns\n",
    "from sklearn.model_selection import GridSearchCV\n",
    "from sklearn.linear_model import LogisticRegression\n",
    "from sklearn import metrics\n",
    "from sklearn.model_selection import GridSearchCV\n",
    "from sklearn.model_selection import KFold\n",
    "from sklearn import preprocessing\n",
    "from sklearn.preprocessing import StandardScaler\n",
    "from sklearn.model_selection import train_test_split\n",
    "from sklearn import metrics\n",
    "from sklearn.feature_selection import RFE\n",
    "from sklearn.ensemble import RandomForestClassifier\n",
    "from sklearn.metrics import precision_score, recall_score\n",
    "from sklearn.metrics import classification_report, confusion_matrix, accuracy_score\n",
    "import warnings\n",
    "warnings.filterwarnings('ignore')"
   ]
  },
  {
   "cell_type": "code",
   "execution_count": 104,
   "id": "e19a8b90",
   "metadata": {},
   "outputs": [
    {
     "data": {
      "text/html": [
       "<div>\n",
       "<style scoped>\n",
       "    .dataframe tbody tr th:only-of-type {\n",
       "        vertical-align: middle;\n",
       "    }\n",
       "\n",
       "    .dataframe tbody tr th {\n",
       "        vertical-align: top;\n",
       "    }\n",
       "\n",
       "    .dataframe thead th {\n",
       "        text-align: right;\n",
       "    }\n",
       "</style>\n",
       "<table border=\"1\" class=\"dataframe\">\n",
       "  <thead>\n",
       "    <tr style=\"text-align: right;\">\n",
       "      <th></th>\n",
       "      <th>mobile_number</th>\n",
       "      <th>circle_id</th>\n",
       "      <th>loc_og_t2o_mou</th>\n",
       "      <th>std_og_t2o_mou</th>\n",
       "      <th>loc_ic_t2o_mou</th>\n",
       "      <th>last_date_of_month_6</th>\n",
       "      <th>last_date_of_month_7</th>\n",
       "      <th>last_date_of_month_8</th>\n",
       "      <th>last_date_of_month_9</th>\n",
       "      <th>arpu_6</th>\n",
       "      <th>...</th>\n",
       "      <th>sachet_3g_9</th>\n",
       "      <th>fb_user_6</th>\n",
       "      <th>fb_user_7</th>\n",
       "      <th>fb_user_8</th>\n",
       "      <th>fb_user_9</th>\n",
       "      <th>aon</th>\n",
       "      <th>aug_vbc_3g</th>\n",
       "      <th>jul_vbc_3g</th>\n",
       "      <th>jun_vbc_3g</th>\n",
       "      <th>sep_vbc_3g</th>\n",
       "    </tr>\n",
       "  </thead>\n",
       "  <tbody>\n",
       "    <tr>\n",
       "      <th>0</th>\n",
       "      <td>7000842753</td>\n",
       "      <td>109</td>\n",
       "      <td>0.0</td>\n",
       "      <td>0.0</td>\n",
       "      <td>0.0</td>\n",
       "      <td>6/30/2014</td>\n",
       "      <td>7/31/2014</td>\n",
       "      <td>8/31/2014</td>\n",
       "      <td>9/30/2014</td>\n",
       "      <td>197.385</td>\n",
       "      <td>...</td>\n",
       "      <td>0</td>\n",
       "      <td>1.0</td>\n",
       "      <td>1.0</td>\n",
       "      <td>1.0</td>\n",
       "      <td>NaN</td>\n",
       "      <td>968</td>\n",
       "      <td>30.4</td>\n",
       "      <td>0.0</td>\n",
       "      <td>101.20</td>\n",
       "      <td>3.58</td>\n",
       "    </tr>\n",
       "    <tr>\n",
       "      <th>1</th>\n",
       "      <td>7001865778</td>\n",
       "      <td>109</td>\n",
       "      <td>0.0</td>\n",
       "      <td>0.0</td>\n",
       "      <td>0.0</td>\n",
       "      <td>6/30/2014</td>\n",
       "      <td>7/31/2014</td>\n",
       "      <td>8/31/2014</td>\n",
       "      <td>9/30/2014</td>\n",
       "      <td>34.047</td>\n",
       "      <td>...</td>\n",
       "      <td>0</td>\n",
       "      <td>NaN</td>\n",
       "      <td>1.0</td>\n",
       "      <td>1.0</td>\n",
       "      <td>NaN</td>\n",
       "      <td>1006</td>\n",
       "      <td>0.0</td>\n",
       "      <td>0.0</td>\n",
       "      <td>0.00</td>\n",
       "      <td>0.00</td>\n",
       "    </tr>\n",
       "    <tr>\n",
       "      <th>2</th>\n",
       "      <td>7001625959</td>\n",
       "      <td>109</td>\n",
       "      <td>0.0</td>\n",
       "      <td>0.0</td>\n",
       "      <td>0.0</td>\n",
       "      <td>6/30/2014</td>\n",
       "      <td>7/31/2014</td>\n",
       "      <td>8/31/2014</td>\n",
       "      <td>9/30/2014</td>\n",
       "      <td>167.690</td>\n",
       "      <td>...</td>\n",
       "      <td>0</td>\n",
       "      <td>NaN</td>\n",
       "      <td>NaN</td>\n",
       "      <td>NaN</td>\n",
       "      <td>1.0</td>\n",
       "      <td>1103</td>\n",
       "      <td>0.0</td>\n",
       "      <td>0.0</td>\n",
       "      <td>4.17</td>\n",
       "      <td>0.00</td>\n",
       "    </tr>\n",
       "    <tr>\n",
       "      <th>3</th>\n",
       "      <td>7001204172</td>\n",
       "      <td>109</td>\n",
       "      <td>0.0</td>\n",
       "      <td>0.0</td>\n",
       "      <td>0.0</td>\n",
       "      <td>6/30/2014</td>\n",
       "      <td>7/31/2014</td>\n",
       "      <td>8/31/2014</td>\n",
       "      <td>9/30/2014</td>\n",
       "      <td>221.338</td>\n",
       "      <td>...</td>\n",
       "      <td>0</td>\n",
       "      <td>NaN</td>\n",
       "      <td>NaN</td>\n",
       "      <td>NaN</td>\n",
       "      <td>NaN</td>\n",
       "      <td>2491</td>\n",
       "      <td>0.0</td>\n",
       "      <td>0.0</td>\n",
       "      <td>0.00</td>\n",
       "      <td>0.00</td>\n",
       "    </tr>\n",
       "    <tr>\n",
       "      <th>4</th>\n",
       "      <td>7000142493</td>\n",
       "      <td>109</td>\n",
       "      <td>0.0</td>\n",
       "      <td>0.0</td>\n",
       "      <td>0.0</td>\n",
       "      <td>6/30/2014</td>\n",
       "      <td>7/31/2014</td>\n",
       "      <td>8/31/2014</td>\n",
       "      <td>9/30/2014</td>\n",
       "      <td>261.636</td>\n",
       "      <td>...</td>\n",
       "      <td>0</td>\n",
       "      <td>0.0</td>\n",
       "      <td>NaN</td>\n",
       "      <td>NaN</td>\n",
       "      <td>NaN</td>\n",
       "      <td>1526</td>\n",
       "      <td>0.0</td>\n",
       "      <td>0.0</td>\n",
       "      <td>0.00</td>\n",
       "      <td>0.00</td>\n",
       "    </tr>\n",
       "  </tbody>\n",
       "</table>\n",
       "<p>5 rows × 226 columns</p>\n",
       "</div>"
      ],
      "text/plain": [
       "   mobile_number  circle_id  loc_og_t2o_mou  std_og_t2o_mou  loc_ic_t2o_mou  \\\n",
       "0     7000842753        109             0.0             0.0             0.0   \n",
       "1     7001865778        109             0.0             0.0             0.0   \n",
       "2     7001625959        109             0.0             0.0             0.0   \n",
       "3     7001204172        109             0.0             0.0             0.0   \n",
       "4     7000142493        109             0.0             0.0             0.0   \n",
       "\n",
       "  last_date_of_month_6 last_date_of_month_7 last_date_of_month_8  \\\n",
       "0            6/30/2014            7/31/2014            8/31/2014   \n",
       "1            6/30/2014            7/31/2014            8/31/2014   \n",
       "2            6/30/2014            7/31/2014            8/31/2014   \n",
       "3            6/30/2014            7/31/2014            8/31/2014   \n",
       "4            6/30/2014            7/31/2014            8/31/2014   \n",
       "\n",
       "  last_date_of_month_9   arpu_6  ...  sachet_3g_9  fb_user_6  fb_user_7  \\\n",
       "0            9/30/2014  197.385  ...            0        1.0        1.0   \n",
       "1            9/30/2014   34.047  ...            0        NaN        1.0   \n",
       "2            9/30/2014  167.690  ...            0        NaN        NaN   \n",
       "3            9/30/2014  221.338  ...            0        NaN        NaN   \n",
       "4            9/30/2014  261.636  ...            0        0.0        NaN   \n",
       "\n",
       "   fb_user_8  fb_user_9   aon  aug_vbc_3g  jul_vbc_3g  jun_vbc_3g  sep_vbc_3g  \n",
       "0        1.0        NaN   968        30.4         0.0      101.20        3.58  \n",
       "1        1.0        NaN  1006         0.0         0.0        0.00        0.00  \n",
       "2        NaN        1.0  1103         0.0         0.0        4.17        0.00  \n",
       "3        NaN        NaN  2491         0.0         0.0        0.00        0.00  \n",
       "4        NaN        NaN  1526         0.0         0.0        0.00        0.00  \n",
       "\n",
       "[5 rows x 226 columns]"
      ]
     },
     "execution_count": 104,
     "metadata": {},
     "output_type": "execute_result"
    }
   ],
   "source": [
    "#loading the dataset\n",
    "data = pd.read_csv(\"telecom_churn_data.csv\")\n",
    "data.head()"
   ]
  },
  {
   "cell_type": "code",
   "execution_count": 105,
   "id": "aa64299d",
   "metadata": {},
   "outputs": [
    {
     "name": "stdout",
     "output_type": "stream",
     "text": [
      "<class 'pandas.core.frame.DataFrame'>\n",
      "RangeIndex: 99999 entries, 0 to 99998\n",
      "Columns: 226 entries, mobile_number to sep_vbc_3g\n",
      "dtypes: float64(179), int64(35), object(12)\n",
      "memory usage: 172.4+ MB\n"
     ]
    }
   ],
   "source": [
    "data.info()"
   ]
  },
  {
   "cell_type": "code",
   "execution_count": 106,
   "id": "7421c09b",
   "metadata": {},
   "outputs": [
    {
     "data": {
      "text/plain": [
       "(99999, 226)"
      ]
     },
     "execution_count": 106,
     "metadata": {},
     "output_type": "execute_result"
    }
   ],
   "source": [
    "data.shape"
   ]
  },
  {
   "cell_type": "code",
   "execution_count": 107,
   "id": "5b8bee76",
   "metadata": {},
   "outputs": [],
   "source": [
    "# Calculate the 70th percentile of the average revenue for months 6 and 7\n",
    "#finding the total amount spent by users on data recharge\n",
    "data['total_rech_data_amt_6'] = data['av_rech_amt_data_6'] * data['total_rech_data_6']\n",
    "data['total_rech_data_amt_7'] = data['av_rech_amt_data_7'] * data['total_rech_data_7']\n",
    "data['total_rech_data_amt_8'] = data['av_rech_amt_data_8'] * data['total_rech_data_8']\n",
    "data['total_rech_data_amt_9'] = data['av_rech_amt_data_9'] * data['total_rech_data_9']"
   ]
  },
  {
   "cell_type": "code",
   "execution_count": 108,
   "id": "bbb4180e",
   "metadata": {},
   "outputs": [],
   "source": [
    "#dropping the av_rech_amt_data and total_rech_data columns\n",
    "data.drop(['total_rech_data_6','total_rech_data_7','total_rech_data_8','total_rech_data_9',\n",
    "'av_rech_amt_data_6','av_rech_amt_data_7','av_rech_amt_data_8','av_rech_amt_data_9'],axis = 1,inplace = True)"
   ]
  },
  {
   "cell_type": "code",
   "execution_count": 109,
   "id": "c626ca1b",
   "metadata": {},
   "outputs": [
    {
     "data": {
      "text/plain": [
       "0    559.0\n",
       "1    306.0\n",
       "2    241.5\n",
       "3    270.0\n",
       "4    301.0\n",
       "dtype: float64"
      ]
     },
     "execution_count": 109,
     "metadata": {},
     "output_type": "execute_result"
    }
   ],
   "source": [
    "# Find the average recharge done in the first two months(June & July), the good phase\n",
    "data_av_rech = (data['total_rech_amt_6'].fillna(0) + data['total_rech_amt_7'].fillna(0) + data['total_rech_data_amt_6'].fillna(0) \n",
    "+ data['total_rech_data_amt_7'].fillna(0))/2\n",
    "\n",
    "data_av_rech.head()"
   ]
  },
  {
   "cell_type": "code",
   "execution_count": 110,
   "id": "7984a221",
   "metadata": {},
   "outputs": [],
   "source": [
    "#filtering out customers below 70th percentile, finding the high value customers\n",
    "percentile_70 = np.percentile(data_av_rech,70)\n",
    "data_hv_cust = data[data_av_rech >= percentile_70]"
   ]
  },
  {
   "cell_type": "code",
   "execution_count": 111,
   "id": "50da3540",
   "metadata": {},
   "outputs": [
    {
     "data": {
      "text/plain": [
       "(30001, 222)"
      ]
     },
     "execution_count": 111,
     "metadata": {},
     "output_type": "execute_result"
    }
   ],
   "source": [
    "data_hv_cust.shape"
   ]
  },
  {
   "cell_type": "code",
   "execution_count": 112,
   "id": "7e53db70",
   "metadata": {},
   "outputs": [],
   "source": [
    "# dividing users into churn and non-churn based on month 9 usage\n",
    "# Calculate the sum for each customer\n",
    "data_hv_cust['total_usage_sum'] = data_hv_cust['total_ic_mou_9'] + data_hv_cust['total_og_mou_9'] + data_hv_cust['vol_2g_mb_9'] + data_hv_cust['vol_3g_mb_9']\n",
    "# Create a new column 'churn' based on the condition\n",
    "data_hv_cust['churn'] = data_hv_cust['total_usage_sum'].apply(lambda x: 'Churn' if x == 0 else 'Non-Churn')"
   ]
  },
  {
   "cell_type": "code",
   "execution_count": 113,
   "id": "a21b3b17",
   "metadata": {},
   "outputs": [
    {
     "data": {
      "text/plain": [
       "(30001, 224)"
      ]
     },
     "execution_count": 113,
     "metadata": {},
     "output_type": "execute_result"
    }
   ],
   "source": [
    "data_hv_cust.shape"
   ]
  },
  {
   "cell_type": "code",
   "execution_count": 114,
   "id": "1297ff95",
   "metadata": {},
   "outputs": [
    {
     "data": {
      "text/plain": [
       "['last_date_of_month_9',\n",
       " 'arpu_9',\n",
       " 'onnet_mou_9',\n",
       " 'offnet_mou_9',\n",
       " 'roam_ic_mou_9',\n",
       " 'roam_og_mou_9',\n",
       " 'loc_og_t2t_mou_9',\n",
       " 'loc_og_t2m_mou_9',\n",
       " 'loc_og_t2f_mou_9',\n",
       " 'loc_og_t2c_mou_9',\n",
       " 'loc_og_mou_9',\n",
       " 'std_og_t2t_mou_9',\n",
       " 'std_og_t2m_mou_9',\n",
       " 'std_og_t2f_mou_9',\n",
       " 'std_og_t2c_mou_9',\n",
       " 'std_og_mou_9',\n",
       " 'isd_og_mou_9',\n",
       " 'spl_og_mou_9',\n",
       " 'og_others_9',\n",
       " 'total_og_mou_9',\n",
       " 'loc_ic_t2t_mou_9',\n",
       " 'loc_ic_t2m_mou_9',\n",
       " 'loc_ic_t2f_mou_9',\n",
       " 'loc_ic_mou_9',\n",
       " 'std_ic_t2t_mou_9',\n",
       " 'std_ic_t2m_mou_9',\n",
       " 'std_ic_t2f_mou_9',\n",
       " 'std_ic_t2o_mou_9',\n",
       " 'std_ic_mou_9',\n",
       " 'total_ic_mou_9',\n",
       " 'spl_ic_mou_9',\n",
       " 'isd_ic_mou_9',\n",
       " 'ic_others_9',\n",
       " 'total_rech_num_9',\n",
       " 'total_rech_amt_9',\n",
       " 'max_rech_amt_9',\n",
       " 'date_of_last_rech_9',\n",
       " 'last_day_rch_amt_9',\n",
       " 'date_of_last_rech_data_9',\n",
       " 'max_rech_data_9',\n",
       " 'count_rech_2g_9',\n",
       " 'count_rech_3g_9',\n",
       " 'vol_2g_mb_9',\n",
       " 'vol_3g_mb_9',\n",
       " 'arpu_3g_9',\n",
       " 'arpu_2g_9',\n",
       " 'night_pck_user_9',\n",
       " 'monthly_2g_9',\n",
       " 'sachet_2g_9',\n",
       " 'monthly_3g_9',\n",
       " 'sachet_3g_9',\n",
       " 'fb_user_9',\n",
       " 'total_rech_data_amt_9']"
      ]
     },
     "execution_count": 114,
     "metadata": {},
     "output_type": "execute_result"
    }
   ],
   "source": [
    "#dropping columns for usage in month 9 bascially any column with '_9' in it\n",
    "cols_to_drop = [col for col in data_hv_cust.columns if '_9' in col]\n",
    "cols_to_drop"
   ]
  },
  {
   "cell_type": "code",
   "execution_count": 115,
   "id": "4099ea46",
   "metadata": {},
   "outputs": [],
   "source": [
    "data_hv_cust.drop(cols_to_drop,axis=1,inplace=True)"
   ]
  },
  {
   "cell_type": "code",
   "execution_count": 116,
   "id": "28d26f0f",
   "metadata": {},
   "outputs": [
    {
     "data": {
      "text/plain": [
       "(30001, 171)"
      ]
     },
     "execution_count": 116,
     "metadata": {},
     "output_type": "execute_result"
    }
   ],
   "source": [
    "data_hv_cust.shape"
   ]
  },
  {
   "cell_type": "code",
   "execution_count": 117,
   "id": "238af5a9",
   "metadata": {},
   "outputs": [],
   "source": [
    "#dropping variables which have only one unique value\n",
    "for i in data_hv_cust.columns:\n",
    "    if data_hv_cust[i].nunique()==1:\n",
    "        data_hv_cust.drop(i,axis=1,inplace=True)"
   ]
  },
  {
   "cell_type": "code",
   "execution_count": 123,
   "id": "9c46f5ec",
   "metadata": {},
   "outputs": [],
   "source": [
    "#checking for null values in dataset, dropping columns which have more than 30 percentage of null values\n",
    "percentage_missing =(data_hv_cust.isnull().sum()/data_hv_cust.shape[0])*100\n",
    "threshold = 30\n",
    "columns_drop = percentage_missing[percentage_missing > threshold].index\n",
    "data_hv_cust.drop(columns=columns_drop, inplace=True)"
   ]
  },
  {
   "cell_type": "code",
   "execution_count": 119,
   "id": "3bd0ae86",
   "metadata": {},
   "outputs": [
    {
     "data": {
      "text/plain": [
       "(30001, 131)"
      ]
     },
     "execution_count": 119,
     "metadata": {},
     "output_type": "execute_result"
    }
   ],
   "source": [
    "data_hv_cust.shape"
   ]
  },
  {
   "cell_type": "code",
   "execution_count": 120,
   "id": "8f3f564e",
   "metadata": {},
   "outputs": [],
   "source": [
    "#converting churn columns to 0 and 1\n",
    "data_hv_cust['churn'] = data_hv_cust['churn'].apply(lambda x: 1 if x == 'Churn' else 0)"
   ]
  },
  {
   "cell_type": "code",
   "execution_count": 124,
   "id": "29a21b09",
   "metadata": {},
   "outputs": [
    {
     "data": {
      "text/plain": [
       "std_ic_t2t_mou_8      3.913203\n",
       "roam_og_mou_8         3.913203\n",
       "loc_og_t2c_mou_8      3.913203\n",
       "std_ic_mou_8          3.913203\n",
       "isd_og_mou_8          3.913203\n",
       "                        ...   \n",
       "max_rech_amt_7        0.000000\n",
       "max_rech_amt_8        0.000000\n",
       "last_day_rch_amt_6    0.000000\n",
       "last_day_rch_amt_7    0.000000\n",
       "churn                 0.000000\n",
       "Length: 131, dtype: float64"
      ]
     },
     "execution_count": 124,
     "metadata": {},
     "output_type": "execute_result"
    }
   ],
   "source": [
    "percentage_missing.sort_values(ascending = False)"
   ]
  },
  {
   "cell_type": "code",
   "execution_count": 125,
   "id": "4af4634c",
   "metadata": {},
   "outputs": [],
   "source": [
    "#dropping rows with missing values\n",
    "columns_with_missing_values = data_hv_cust.columns[data_hv_cust.isnull().any()].tolist()\n",
    "data_hv_cust1 = data_hv_cust.dropna(subset=columns_with_missing_values)"
   ]
  },
  {
   "cell_type": "code",
   "execution_count": 128,
   "id": "e88b966a",
   "metadata": {},
   "outputs": [
    {
     "data": {
      "text/plain": [
       "mobile_number      0.0\n",
       "arpu_6             0.0\n",
       "arpu_7             0.0\n",
       "arpu_8             0.0\n",
       "onnet_mou_6        0.0\n",
       "                  ... \n",
       "jul_vbc_3g         0.0\n",
       "jun_vbc_3g         0.0\n",
       "sep_vbc_3g         0.0\n",
       "total_usage_sum    0.0\n",
       "churn              0.0\n",
       "Length: 131, dtype: float64"
      ]
     },
     "execution_count": 128,
     "metadata": {},
     "output_type": "execute_result"
    }
   ],
   "source": [
    "# Checking percentage of missing values after removing the missing values\n",
    "round(100*(data_hv_cust1.isnull().sum()/len(data_hv_cust1.index)), 2)\n",
    "#all the rows with missing values have been removed"
   ]
  },
  {
   "cell_type": "code",
   "execution_count": 131,
   "id": "15dcf125",
   "metadata": {},
   "outputs": [
    {
     "data": {
      "image/png": "[encoded data removed]",
      "text/plain": [
       "<Figure size 640x480 with 1 Axes>"
      ]
     },
     "metadata": {},
     "output_type": "display_data"
    }
   ],
   "source": [
    "#checking data imbalance in Churn column\n",
    "data_hv_cust1.churn.value_counts(normalize = True).plot.bar(color='Purple')\n",
    "plt.show()\n",
    "#looks like there is data imblance which would need to be handled"
   ]
  },
  {
   "cell_type": "code",
   "execution_count": null,
   "id": "77bcafb1",
   "metadata": {},
   "outputs": [],
   "source": []
  },
  {
   "cell_type": "code",
   "execution_count": null,
   "id": "8df1a05f",
   "metadata": {},
   "outputs": [],
   "source": []
  },
  {
   "cell_type": "code",
   "execution_count": null,
   "id": "0acc1498",
   "metadata": {},
   "outputs": [],
   "source": []
  },
  {
   "cell_type": "code",
   "execution_count": null,
   "id": "c1962ae7",
   "metadata": {},
   "outputs": [],
   "source": []
  }
 ],
 "metadata": {
  "kernelspec": {
   "display_name": "Python 3 (ipykernel)",
   "language": "python",
   "name": "python3"
  },
  "language_info": {
   "codemirror_mode": {
    "name": "ipython",
    "version": 3
   },
   "file_extension": ".py",
   "mimetype": "text/x-python",
   "name": "python",
   "nbconvert_exporter": "python",
   "pygments_lexer": "ipython3",
   "version": "3.10.9"
  }
 },
 "nbformat": 4,
 "nbformat_minor": 5
}
